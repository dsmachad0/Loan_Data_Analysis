{
    "metadata": {
        "kernelspec": {
            "name": "SQL",
            "display_name": "SQL",
            "language": "sql"
        },
        "language_info": {
            "name": "sql",
            "version": ""
        }
    },
    "nbformat_minor": 2,
    "nbformat": 4,
    "cells": [
        {
            "cell_type": "markdown",
            "source": [
                "# Data Cleaning Process\n",
                "\n",
                "Before we start the data analysis on the Loan Data database, we will need to perform a few data cleaning steps such as altering column names, setting columns with the appropriate data type, and neatly formatting the column values.\n",
                "\n",
                "- Refer to the data dictionary for more details.\n",
                "\n",
                "## 1\\. Checking out our data.\n",
                "\n",
                "To start, let's take a glimpse at our data by selecting the first five rows of all the columns in the dataset."
            ],
            "metadata": {
                "azdata_cell_guid": "5ee69d4c-2f06-49a1-81b2-b9ae18c3a49d"
            },
            "attachments": {}
        },
        {
            "cell_type": "code",
            "source": [
                "SELECT TOP(5) *\r\n",
                "FROM [Projects].[dbo].[loan_data]"
            ],
            "metadata": {
                "azdata_cell_guid": "14f7da77-9713-4a6c-9097-ebd3dd226901"
            },
            "outputs": [
                {
                    "output_type": "display_data",
                    "data": {
                        "text/html": "(5 rows affected)"
                    },
                    "metadata": {}
                },
                {
                    "output_type": "display_data",
                    "data": {
                        "text/html": "Total execution time: 00:00:00.015"
                    },
                    "metadata": {}
                },
                {
                    "output_type": "execute_result",
                    "execution_count": 1,
                    "data": {
                        "application/vnd.dataresource+json": {
                            "schema": {
                                "fields": [
                                    {
                                        "name": "credit#policy"
                                    },
                                    {
                                        "name": "purpose"
                                    },
                                    {
                                        "name": "int#rate"
                                    },
                                    {
                                        "name": "installment"
                                    },
                                    {
                                        "name": "log#annual#inc"
                                    },
                                    {
                                        "name": "dti"
                                    },
                                    {
                                        "name": "fico"
                                    },
                                    {
                                        "name": "days#with#cr#line"
                                    },
                                    {
                                        "name": "revol#bal"
                                    },
                                    {
                                        "name": "revol#util"
                                    },
                                    {
                                        "name": "inq#last#6mths"
                                    },
                                    {
                                        "name": "delinq#2yrs"
                                    },
                                    {
                                        "name": "pub#rec"
                                    },
                                    {
                                        "name": "not#fully#paid"
                                    }
                                ]
                            },
                            "data": [
                                {
                                    "0": "1",
                                    "1": "debt_consolidation",
                                    "2": "0.1189",
                                    "3": "829.1",
                                    "4": "11.35040654",
                                    "5": "19.48",
                                    "6": "737",
                                    "7": "5639.958333",
                                    "8": "28854",
                                    "9": "52.1",
                                    "10": "0",
                                    "11": "0",
                                    "12": "0",
                                    "13": "0"
                                },
                                {
                                    "0": "1",
                                    "1": "credit_card",
                                    "2": "0.1071",
                                    "3": "228.22",
                                    "4": "11.08214255",
                                    "5": "14.29",
                                    "6": "707",
                                    "7": "2760",
                                    "8": "33623",
                                    "9": "76.7",
                                    "10": "0",
                                    "11": "0",
                                    "12": "0",
                                    "13": "0"
                                },
                                {
                                    "0": "1",
                                    "1": "debt_consolidation",
                                    "2": "0.1357",
                                    "3": "366.86",
                                    "4": "10.37349118",
                                    "5": "11.63",
                                    "6": "682",
                                    "7": "4710",
                                    "8": "3511",
                                    "9": "25.6",
                                    "10": "1",
                                    "11": "0",
                                    "12": "0",
                                    "13": "0"
                                },
                                {
                                    "0": "1",
                                    "1": "debt_consolidation",
                                    "2": "0.1008",
                                    "3": "162.34",
                                    "4": "11.35040654",
                                    "5": "8.1",
                                    "6": "712",
                                    "7": "2699.958333",
                                    "8": "33667",
                                    "9": "73.2",
                                    "10": "1",
                                    "11": "0",
                                    "12": "0",
                                    "13": "0"
                                },
                                {
                                    "0": "1",
                                    "1": "credit_card",
                                    "2": "0.1426",
                                    "3": "102.92",
                                    "4": "11.29973224",
                                    "5": "14.97",
                                    "6": "667",
                                    "7": "4066",
                                    "8": "4740",
                                    "9": "39.5",
                                    "10": "0",
                                    "11": "1",
                                    "12": "0",
                                    "13": "0"
                                }
                            ]
                        },
                        "text/html": "<table><tr><th>credit#policy</th><th>purpose</th><th>int#rate</th><th>installment</th><th>log#annual#inc</th><th>dti</th><th>fico</th><th>days#with#cr#line</th><th>revol#bal</th><th>revol#util</th><th>inq#last#6mths</th><th>delinq#2yrs</th><th>pub#rec</th><th>not#fully#paid</th></tr><tr><td>1</td><td>debt_consolidation</td><td>0.1189</td><td>829.1</td><td>11.35040654</td><td>19.48</td><td>737</td><td>5639.958333</td><td>28854</td><td>52.1</td><td>0</td><td>0</td><td>0</td><td>0</td></tr><tr><td>1</td><td>credit_card</td><td>0.1071</td><td>228.22</td><td>11.08214255</td><td>14.29</td><td>707</td><td>2760</td><td>33623</td><td>76.7</td><td>0</td><td>0</td><td>0</td><td>0</td></tr><tr><td>1</td><td>debt_consolidation</td><td>0.1357</td><td>366.86</td><td>10.37349118</td><td>11.63</td><td>682</td><td>4710</td><td>3511</td><td>25.6</td><td>1</td><td>0</td><td>0</td><td>0</td></tr><tr><td>1</td><td>debt_consolidation</td><td>0.1008</td><td>162.34</td><td>11.35040654</td><td>8.1</td><td>712</td><td>2699.958333</td><td>33667</td><td>73.2</td><td>1</td><td>0</td><td>0</td><td>0</td></tr><tr><td>1</td><td>credit_card</td><td>0.1426</td><td>102.92</td><td>11.29973224</td><td>14.97</td><td>667</td><td>4066</td><td>4740</td><td>39.5</td><td>0</td><td>1</td><td>0</td><td>0</td></tr></table>"
                    },
                    "metadata": {}
                }
            ],
            "execution_count": 1
        },
        {
            "cell_type": "markdown",
            "source": [
                "## 2\\. Changing Columns Names And Data Type.  \n",
                "\n",
                "By looking at the results, we see that we need to fix the names of the columns to match with the Column Naming Standards."
            ],
            "metadata": {
                "azdata_cell_guid": "9928d8bf-4a4e-4edf-b5bd-de000579ea28"
            },
            "attachments": {}
        },
        {
            "cell_type": "code",
            "source": [
                "--Renaming columns\r\n",
                "\r\n",
                "EXEC sp_RENAME '[dbo].[loan_data].int#rate', 'int_rate', 'COLUMN'\r\n",
                "EXEC sp_RENAME '[dbo].[loan_data].log#annual#inc', 'log_annual_inc', 'COLUMN'\r\n",
                "EXEC sp_RENAME '[dbo].[loan_data].days#with#cr#line', 'days_with_cr_line', 'COLUMN'\r\n",
                "EXEC sp_RENAME '[dbo].[loan_data].revol#bal', 'revol_bal', 'COLUMN'\r\n",
                "EXEC sp_RENAME '[dbo].[loan_data].revol#util', 'revol_util', 'COLUMN'\r\n",
                "EXEC sp_RENAME '[dbo].[loan_data].inq#last#6mths', 'inq_last_6mths', 'COLUMN'\r\n",
                "EXEC sp_RENAME '[dbo].[loan_data].delinq#2yrs', 'delinq_2yrs', 'COLUMN'\r\n",
                "EXEC sp_RENAME '[dbo].[loan_data].pub#rec', 'pub_rec', 'COLUMN'\r\n",
                "EXEC sp_RENAME '[dbo].[loan_data].not#fully#paid', 'not_fully_paid', 'COLUMN'"
            ],
            "metadata": {
                "azdata_cell_guid": "20c1550f-22e7-4079-9c41-d650afd60848"
            },
            "outputs": [],
            "execution_count": null
        },
        {
            "cell_type": "markdown",
            "source": [
                "Now that we renamed the columns, we will adjust the data types of the dataset.  All numeric values are _floats,_ let's change to _int_ the columns that do not have decimals numbers."
            ],
            "metadata": {
                "azdata_cell_guid": "9b5dda02-4ece-4289-9d46-a8c5fbe4d736"
            },
            "attachments": {}
        },
        {
            "cell_type": "code",
            "source": [
                "-- Altering inq_last_6mths column from float to int\r\n",
                "ALTER TABLE [Projects].[dbo].[loan_data] \r\n",
                "ALTER COLUMN inq_last_6mths int \r\n",
                "-- Altering fico column from float to int\r\n",
                "ALTER TABLE [Projects].[dbo].[loan_data] \r\n",
                "ALTER COLUMN fico int \r\n",
                "-- Altering delinq_2yrs column from float to int\r\n",
                "ALTER TABLE [Projects].[dbo].[loan_data] \r\n",
                "ALTER COLUMN delinq_2yrs int \r\n",
                "-- Altering pub_rec column from float to int\r\n",
                "ALTER TABLE [Projects].[dbo].[loan_data] \r\n",
                "ALTER COLUMN pub_rec int \r\n",
                "-- Altering not_fully_paid column from float to int\r\n",
                "ALTER TABLE [Projects].[dbo].[loan_data] \r\n",
                "ALTER COLUMN not_fully_paid int "
            ],
            "metadata": {
                "azdata_cell_guid": "160b8a26-9c8d-45ac-b3d5-fde3f41734e9",
                "tags": []
            },
            "outputs": [
                {
                    "output_type": "display_data",
                    "data": {
                        "text/html": "Commands completed successfully."
                    },
                    "metadata": {}
                },
                {
                    "output_type": "display_data",
                    "data": {
                        "text/html": "Total execution time: 00:00:00.074"
                    },
                    "metadata": {}
                }
            ],
            "execution_count": 1
        },
        {
            "cell_type": "markdown",
            "source": [
                "Let's check our database so far. We see that the names of the columns are more readable and the columns have the appropriate data types now.  The \"purpose\" column can be also cleaned by replacing the underscore and capitalizing the first letter."
            ],
            "metadata": {
                "azdata_cell_guid": "9a03177b-d1cc-460f-9578-e81c82cd41ff"
            },
            "attachments": {}
        },
        {
            "cell_type": "code",
            "source": [
                "SELECT TOP(5) *\r\n",
                "FROM [Projects].[dbo].[loan_data]"
            ],
            "metadata": {
                "azdata_cell_guid": "262d67df-c16c-4142-9df1-98e4adddb3ca"
            },
            "outputs": [
                {
                    "output_type": "display_data",
                    "data": {
                        "text/html": "(5 rows affected)"
                    },
                    "metadata": {}
                },
                {
                    "output_type": "display_data",
                    "data": {
                        "text/html": "Total execution time: 00:00:00.020"
                    },
                    "metadata": {}
                },
                {
                    "output_type": "execute_result",
                    "execution_count": 8,
                    "data": {
                        "application/vnd.dataresource+json": {
                            "schema": {
                                "fields": [
                                    {
                                        "name": "credit_policy"
                                    },
                                    {
                                        "name": "purpose"
                                    },
                                    {
                                        "name": "int_rate"
                                    },
                                    {
                                        "name": "installment"
                                    },
                                    {
                                        "name": "log_annual_inc"
                                    },
                                    {
                                        "name": "dti"
                                    },
                                    {
                                        "name": "fico"
                                    },
                                    {
                                        "name": "days_with_cr_line"
                                    },
                                    {
                                        "name": "revol_bal"
                                    },
                                    {
                                        "name": "revol_util"
                                    },
                                    {
                                        "name": "inq_last_6mths"
                                    },
                                    {
                                        "name": "delinq_2yrs"
                                    },
                                    {
                                        "name": "pub_rec"
                                    },
                                    {
                                        "name": "not_fully_paid"
                                    }
                                ]
                            },
                            "data": [
                                {
                                    "0": "1",
                                    "1": "debt_consolidation",
                                    "2": "0.1189",
                                    "3": "829.1",
                                    "4": "11.35040654",
                                    "5": "19.48",
                                    "6": "737",
                                    "7": "5639.958333",
                                    "8": "28854",
                                    "9": "52.1",
                                    "10": "0",
                                    "11": "0",
                                    "12": "0",
                                    "13": "0"
                                },
                                {
                                    "0": "1",
                                    "1": "credit_card",
                                    "2": "0.1071",
                                    "3": "228.22",
                                    "4": "11.08214255",
                                    "5": "14.29",
                                    "6": "707",
                                    "7": "2760",
                                    "8": "33623",
                                    "9": "76.7",
                                    "10": "0",
                                    "11": "0",
                                    "12": "0",
                                    "13": "0"
                                },
                                {
                                    "0": "1",
                                    "1": "debt_consolidation",
                                    "2": "0.1357",
                                    "3": "366.86",
                                    "4": "10.37349118",
                                    "5": "11.63",
                                    "6": "682",
                                    "7": "4710",
                                    "8": "3511",
                                    "9": "25.6",
                                    "10": "1",
                                    "11": "0",
                                    "12": "0",
                                    "13": "0"
                                },
                                {
                                    "0": "1",
                                    "1": "debt_consolidation",
                                    "2": "0.1008",
                                    "3": "162.34",
                                    "4": "11.35040654",
                                    "5": "8.1",
                                    "6": "712",
                                    "7": "2699.958333",
                                    "8": "33667",
                                    "9": "73.2",
                                    "10": "1",
                                    "11": "0",
                                    "12": "0",
                                    "13": "0"
                                },
                                {
                                    "0": "1",
                                    "1": "credit_card",
                                    "2": "0.1426",
                                    "3": "102.92",
                                    "4": "11.29973224",
                                    "5": "14.97",
                                    "6": "667",
                                    "7": "4066",
                                    "8": "4740",
                                    "9": "39.5",
                                    "10": "0",
                                    "11": "1",
                                    "12": "0",
                                    "13": "0"
                                }
                            ]
                        },
                        "text/html": "<table><tr><th>credit_policy</th><th>purpose</th><th>int_rate</th><th>installment</th><th>log_annual_inc</th><th>dti</th><th>fico</th><th>days_with_cr_line</th><th>revol_bal</th><th>revol_util</th><th>inq_last_6mths</th><th>delinq_2yrs</th><th>pub_rec</th><th>not_fully_paid</th></tr><tr><td>1</td><td>debt_consolidation</td><td>0.1189</td><td>829.1</td><td>11.35040654</td><td>19.48</td><td>737</td><td>5639.958333</td><td>28854</td><td>52.1</td><td>0</td><td>0</td><td>0</td><td>0</td></tr><tr><td>1</td><td>credit_card</td><td>0.1071</td><td>228.22</td><td>11.08214255</td><td>14.29</td><td>707</td><td>2760</td><td>33623</td><td>76.7</td><td>0</td><td>0</td><td>0</td><td>0</td></tr><tr><td>1</td><td>debt_consolidation</td><td>0.1357</td><td>366.86</td><td>10.37349118</td><td>11.63</td><td>682</td><td>4710</td><td>3511</td><td>25.6</td><td>1</td><td>0</td><td>0</td><td>0</td></tr><tr><td>1</td><td>debt_consolidation</td><td>0.1008</td><td>162.34</td><td>11.35040654</td><td>8.1</td><td>712</td><td>2699.958333</td><td>33667</td><td>73.2</td><td>1</td><td>0</td><td>0</td><td>0</td></tr><tr><td>1</td><td>credit_card</td><td>0.1426</td><td>102.92</td><td>11.29973224</td><td>14.97</td><td>667</td><td>4066</td><td>4740</td><td>39.5</td><td>0</td><td>1</td><td>0</td><td>0</td></tr></table>"
                    },
                    "metadata": {}
                }
            ],
            "execution_count": 8
        },
        {
            "cell_type": "code",
            "source": [
                "UPDATE [Projects].[dbo].[loan_data] \r\n",
                "SET purpose = REPLACE(purpose, '_', ' ')"
            ],
            "metadata": {
                "azdata_cell_guid": "1aed046b-9617-4747-bee3-21be0acc55f5"
            },
            "outputs": [
                {
                    "output_type": "display_data",
                    "data": {
                        "text/html": "(9578 rows affected)"
                    },
                    "metadata": {}
                },
                {
                    "output_type": "display_data",
                    "data": {
                        "text/html": "Total execution time: 00:00:00.082"
                    },
                    "metadata": {}
                }
            ],
            "execution_count": 9
        },
        {
            "cell_type": "code",
            "source": [
                "UPDATE [Projects].[dbo].[loan_data] \r\n",
                "SET purpose =  UPPER(LEFT(purpose, 1)) + lower(RIGHT(purpose, len(purpose)-1) ) "
            ],
            "metadata": {
                "azdata_cell_guid": "2d2e2a5f-1dfb-4ba2-80a1-932d9a83f93e"
            },
            "outputs": [
                {
                    "output_type": "display_data",
                    "data": {
                        "text/html": "(9578 rows affected)"
                    },
                    "metadata": {}
                },
                {
                    "output_type": "display_data",
                    "data": {
                        "text/html": "Total execution time: 00:00:00.056"
                    },
                    "metadata": {}
                }
            ],
            "execution_count": 10
        },
        {
            "cell_type": "markdown",
            "source": [
                "## 3\\. The Final Look:\n",
                "\n",
                "Now that everything is cleaned, let's check our database and start our analysis."
            ],
            "metadata": {
                "azdata_cell_guid": "4ef4b1bf-abf7-48e2-89f6-bad302d204d6"
            },
            "attachments": {}
        },
        {
            "cell_type": "code",
            "source": [
                "SELECT TOP(5) *\r\n",
                "FROM [Projects].[dbo].[loan_data]"
            ],
            "metadata": {
                "azdata_cell_guid": "9716b6ca-7c75-456a-896a-c60cfa5c2df0"
            },
            "outputs": [
                {
                    "output_type": "display_data",
                    "data": {
                        "text/html": "(5 rows affected)"
                    },
                    "metadata": {}
                },
                {
                    "output_type": "display_data",
                    "data": {
                        "text/html": "Total execution time: 00:00:00.024"
                    },
                    "metadata": {}
                },
                {
                    "output_type": "execute_result",
                    "execution_count": 11,
                    "data": {
                        "application/vnd.dataresource+json": {
                            "schema": {
                                "fields": [
                                    {
                                        "name": "credit_policy"
                                    },
                                    {
                                        "name": "purpose"
                                    },
                                    {
                                        "name": "int_rate"
                                    },
                                    {
                                        "name": "installment"
                                    },
                                    {
                                        "name": "log_annual_inc"
                                    },
                                    {
                                        "name": "dti"
                                    },
                                    {
                                        "name": "fico"
                                    },
                                    {
                                        "name": "days_with_cr_line"
                                    },
                                    {
                                        "name": "revol_bal"
                                    },
                                    {
                                        "name": "revol_util"
                                    },
                                    {
                                        "name": "inq_last_6mths"
                                    },
                                    {
                                        "name": "delinq_2yrs"
                                    },
                                    {
                                        "name": "pub_rec"
                                    },
                                    {
                                        "name": "not_fully_paid"
                                    }
                                ]
                            },
                            "data": [
                                {
                                    "0": "1",
                                    "1": "Debt consolidation",
                                    "2": "0.1189",
                                    "3": "829.1",
                                    "4": "11.35040654",
                                    "5": "19.48",
                                    "6": "737",
                                    "7": "5639.958333",
                                    "8": "28854",
                                    "9": "52.1",
                                    "10": "0",
                                    "11": "0",
                                    "12": "0",
                                    "13": "0"
                                },
                                {
                                    "0": "1",
                                    "1": "Credit card",
                                    "2": "0.1071",
                                    "3": "228.22",
                                    "4": "11.08214255",
                                    "5": "14.29",
                                    "6": "707",
                                    "7": "2760",
                                    "8": "33623",
                                    "9": "76.7",
                                    "10": "0",
                                    "11": "0",
                                    "12": "0",
                                    "13": "0"
                                },
                                {
                                    "0": "1",
                                    "1": "Debt consolidation",
                                    "2": "0.1357",
                                    "3": "366.86",
                                    "4": "10.37349118",
                                    "5": "11.63",
                                    "6": "682",
                                    "7": "4710",
                                    "8": "3511",
                                    "9": "25.6",
                                    "10": "1",
                                    "11": "0",
                                    "12": "0",
                                    "13": "0"
                                },
                                {
                                    "0": "1",
                                    "1": "Debt consolidation",
                                    "2": "0.1008",
                                    "3": "162.34",
                                    "4": "11.35040654",
                                    "5": "8.1",
                                    "6": "712",
                                    "7": "2699.958333",
                                    "8": "33667",
                                    "9": "73.2",
                                    "10": "1",
                                    "11": "0",
                                    "12": "0",
                                    "13": "0"
                                },
                                {
                                    "0": "1",
                                    "1": "Credit card",
                                    "2": "0.1426",
                                    "3": "102.92",
                                    "4": "11.29973224",
                                    "5": "14.97",
                                    "6": "667",
                                    "7": "4066",
                                    "8": "4740",
                                    "9": "39.5",
                                    "10": "0",
                                    "11": "1",
                                    "12": "0",
                                    "13": "0"
                                }
                            ]
                        },
                        "text/html": "<table><tr><th>credit_policy</th><th>purpose</th><th>int_rate</th><th>installment</th><th>log_annual_inc</th><th>dti</th><th>fico</th><th>days_with_cr_line</th><th>revol_bal</th><th>revol_util</th><th>inq_last_6mths</th><th>delinq_2yrs</th><th>pub_rec</th><th>not_fully_paid</th></tr><tr><td>1</td><td>Debt consolidation</td><td>0.1189</td><td>829.1</td><td>11.35040654</td><td>19.48</td><td>737</td><td>5639.958333</td><td>28854</td><td>52.1</td><td>0</td><td>0</td><td>0</td><td>0</td></tr><tr><td>1</td><td>Credit card</td><td>0.1071</td><td>228.22</td><td>11.08214255</td><td>14.29</td><td>707</td><td>2760</td><td>33623</td><td>76.7</td><td>0</td><td>0</td><td>0</td><td>0</td></tr><tr><td>1</td><td>Debt consolidation</td><td>0.1357</td><td>366.86</td><td>10.37349118</td><td>11.63</td><td>682</td><td>4710</td><td>3511</td><td>25.6</td><td>1</td><td>0</td><td>0</td><td>0</td></tr><tr><td>1</td><td>Debt consolidation</td><td>0.1008</td><td>162.34</td><td>11.35040654</td><td>8.1</td><td>712</td><td>2699.958333</td><td>33667</td><td>73.2</td><td>1</td><td>0</td><td>0</td><td>0</td></tr><tr><td>1</td><td>Credit card</td><td>0.1426</td><td>102.92</td><td>11.29973224</td><td>14.97</td><td>667</td><td>4066</td><td>4740</td><td>39.5</td><td>0</td><td>1</td><td>0</td><td>0</td></tr></table>"
                    },
                    "metadata": {}
                }
            ],
            "execution_count": 11
        }
    ]
}