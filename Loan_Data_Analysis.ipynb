{
    "metadata": {
        "kernelspec": {
            "name": "SQL",
            "display_name": "SQL",
            "language": "sql"
        },
        "language_info": {
            "name": "sql",
            "version": ""
        }
    },
    "nbformat_minor": 2,
    "nbformat": 4,
    "cells": [
        {
            "cell_type": "markdown",
            "source": [
                "# Loan Data Analysis\n",
                "\n",
                "In this analysis, we will be exploring the LendingClub.com dataset that contains data from almost 10,000 borrowers. We will be analyzing the most common types of loans and how long borrowers take to pay their investors. Finally, we will explore the relationship between the borrower's profile on their loan application and if it is fully paid. With this analysis, we hope to help lenders to make data-driven decisions on their investments by pre-determining features of borrowers who fully paid their loans had.\n",
                "\n",
                "## 1\\. Exploratory Data Analysis\n",
                "\n",
                "To start, let's take a look at the first five rows of our dataset. This dataset has been cleaned already in our previous step, and you can refer to the Data Dictionary for more information."
            ],
            "metadata": {
                "azdata_cell_guid": "aade9fd8-9309-44e6-bb43-fa5529c6da41"
            },
            "attachments": {}
        },
        {
            "cell_type": "code",
            "source": [
                "--Selecting the top 5 rows\r\n",
                "SELECT TOP(5) *\r\n",
                "FROM [Projects].[dbo].[loan_data]"
            ],
            "metadata": {
                "azdata_cell_guid": "85cdc5eb-f34c-4209-b9e7-6fe322444352"
            },
            "outputs": [
                {
                    "output_type": "display_data",
                    "data": {
                        "text/html": "(5 rows affected)"
                    },
                    "metadata": {}
                },
                {
                    "output_type": "display_data",
                    "data": {
                        "text/html": "Total execution time: 00:00:00.027"
                    },
                    "metadata": {}
                },
                {
                    "output_type": "execute_result",
                    "execution_count": 1,
                    "data": {
                        "application/vnd.dataresource+json": {
                            "schema": {
                                "fields": [
                                    {
                                        "name": "credit_policy"
                                    },
                                    {
                                        "name": "purpose"
                                    },
                                    {
                                        "name": "int_rate"
                                    },
                                    {
                                        "name": "installment"
                                    },
                                    {
                                        "name": "log_annual_inc"
                                    },
                                    {
                                        "name": "dti"
                                    },
                                    {
                                        "name": "fico"
                                    },
                                    {
                                        "name": "days_with_cr_line"
                                    },
                                    {
                                        "name": "revol_bal"
                                    },
                                    {
                                        "name": "revol_util"
                                    },
                                    {
                                        "name": "inq_last_6mths"
                                    },
                                    {
                                        "name": "delinq_2yrs"
                                    },
                                    {
                                        "name": "pub_rec"
                                    },
                                    {
                                        "name": "not_fully_paid"
                                    }
                                ]
                            },
                            "data": [
                                {
                                    "0": "1",
                                    "1": "Debt consolidation",
                                    "2": "0.1189",
                                    "3": "829.1",
                                    "4": "11.35040654",
                                    "5": "19.48",
                                    "6": "737",
                                    "7": "5639.958333",
                                    "8": "28854",
                                    "9": "52.1",
                                    "10": "0",
                                    "11": "0",
                                    "12": "0",
                                    "13": "0"
                                },
                                {
                                    "0": "1",
                                    "1": "Credit card",
                                    "2": "0.1071",
                                    "3": "228.22",
                                    "4": "11.08214255",
                                    "5": "14.29",
                                    "6": "707",
                                    "7": "2760",
                                    "8": "33623",
                                    "9": "76.7",
                                    "10": "0",
                                    "11": "0",
                                    "12": "0",
                                    "13": "0"
                                },
                                {
                                    "0": "1",
                                    "1": "Debt consolidation",
                                    "2": "0.1357",
                                    "3": "366.86",
                                    "4": "10.37349118",
                                    "5": "11.63",
                                    "6": "682",
                                    "7": "4710",
                                    "8": "3511",
                                    "9": "25.6",
                                    "10": "1",
                                    "11": "0",
                                    "12": "0",
                                    "13": "0"
                                },
                                {
                                    "0": "1",
                                    "1": "Debt consolidation",
                                    "2": "0.1008",
                                    "3": "162.34",
                                    "4": "11.35040654",
                                    "5": "8.1",
                                    "6": "712",
                                    "7": "2699.958333",
                                    "8": "33667",
                                    "9": "73.2",
                                    "10": "1",
                                    "11": "0",
                                    "12": "0",
                                    "13": "0"
                                },
                                {
                                    "0": "1",
                                    "1": "Credit card",
                                    "2": "0.1426",
                                    "3": "102.92",
                                    "4": "11.29973224",
                                    "5": "14.97",
                                    "6": "667",
                                    "7": "4066",
                                    "8": "4740",
                                    "9": "39.5",
                                    "10": "0",
                                    "11": "1",
                                    "12": "0",
                                    "13": "0"
                                }
                            ]
                        },
                        "text/html": "<table><tr><th>credit_policy</th><th>purpose</th><th>int_rate</th><th>installment</th><th>log_annual_inc</th><th>dti</th><th>fico</th><th>days_with_cr_line</th><th>revol_bal</th><th>revol_util</th><th>inq_last_6mths</th><th>delinq_2yrs</th><th>pub_rec</th><th>not_fully_paid</th></tr><tr><td>1</td><td>Debt consolidation</td><td>0.1189</td><td>829.1</td><td>11.35040654</td><td>19.48</td><td>737</td><td>5639.958333</td><td>28854</td><td>52.1</td><td>0</td><td>0</td><td>0</td><td>0</td></tr><tr><td>1</td><td>Credit card</td><td>0.1071</td><td>228.22</td><td>11.08214255</td><td>14.29</td><td>707</td><td>2760</td><td>33623</td><td>76.7</td><td>0</td><td>0</td><td>0</td><td>0</td></tr><tr><td>1</td><td>Debt consolidation</td><td>0.1357</td><td>366.86</td><td>10.37349118</td><td>11.63</td><td>682</td><td>4710</td><td>3511</td><td>25.6</td><td>1</td><td>0</td><td>0</td><td>0</td></tr><tr><td>1</td><td>Debt consolidation</td><td>0.1008</td><td>162.34</td><td>11.35040654</td><td>8.1</td><td>712</td><td>2699.958333</td><td>33667</td><td>73.2</td><td>1</td><td>0</td><td>0</td><td>0</td></tr><tr><td>1</td><td>Credit card</td><td>0.1426</td><td>102.92</td><td>11.29973224</td><td>14.97</td><td>667</td><td>4066</td><td>4740</td><td>39.5</td><td>0</td><td>1</td><td>0</td><td>0</td></tr></table>"
                    },
                    "metadata": {}
                }
            ],
            "execution_count": 1
        },
        {
            "cell_type": "markdown",
            "source": [
                "Now that we know our dataset content, we will first explore our data and determine the following:\n",
                "\n",
                "- How many loans were taken for each category? \n",
                "- How many loans were fully paid?\n",
                "- If the borrower meets the credit policy, are they more likely to pay the loan?"
            ],
            "metadata": {
                "azdata_cell_guid": "957bb116-ef74-4ad7-849e-9791336b8b7c"
            },
            "attachments": {}
        },
        {
            "cell_type": "code",
            "source": [
                "-- How many loans were taken for each category?\r\n",
                "\r\n",
                "SELECT purpose, COUNT(*) as loans\r\n",
                "FROM [dbo].[loan_data] \r\n",
                "GROUP BY purpose\r\n",
                "ORDER BY loans DESC"
            ],
            "metadata": {
                "azdata_cell_guid": "b7df35c6-5f52-4117-93d9-2c32112cf35b"
            },
            "outputs": [
                {
                    "output_type": "display_data",
                    "data": {
                        "text/html": "(7 rows affected)"
                    },
                    "metadata": {}
                },
                {
                    "output_type": "display_data",
                    "data": {
                        "text/html": "Total execution time: 00:00:00.018"
                    },
                    "metadata": {}
                },
                {
                    "output_type": "execute_result",
                    "execution_count": 2,
                    "data": {
                        "application/vnd.dataresource+json": {
                            "schema": {
                                "fields": [
                                    {
                                        "name": "purpose"
                                    },
                                    {
                                        "name": "loans"
                                    }
                                ]
                            },
                            "data": [
                                {
                                    "0": "Debt consolidation",
                                    "1": "3957"
                                },
                                {
                                    "0": "All other",
                                    "1": "2331"
                                },
                                {
                                    "0": "Credit card",
                                    "1": "1262"
                                },
                                {
                                    "0": "Home improvement",
                                    "1": "629"
                                },
                                {
                                    "0": "Small business",
                                    "1": "619"
                                },
                                {
                                    "0": "Major purchase",
                                    "1": "437"
                                },
                                {
                                    "0": "Educational",
                                    "1": "343"
                                }
                            ]
                        },
                        "text/html": "<table><tr><th>purpose</th><th>loans</th></tr><tr><td>Debt consolidation</td><td>3957</td></tr><tr><td>All other</td><td>2331</td></tr><tr><td>Credit card</td><td>1262</td></tr><tr><td>Home improvement</td><td>629</td></tr><tr><td>Small business</td><td>619</td></tr><tr><td>Major purchase</td><td>437</td></tr><tr><td>Educational</td><td>343</td></tr></table>"
                    },
                    "metadata": {}
                }
            ],
            "execution_count": 2
        },
        {
            "cell_type": "code",
            "source": [
                "-- How many loans were fully paid?\r\n",
                "SELECT \r\n",
                "CASE \r\n",
                "\tWHEN not_fully_paid = 0 THEN 'Yes'\r\n",
                "\tELSE 'No'\r\n",
                "\tEND as status, COUNT(*) as loans\r\n",
                "FROM [dbo].[loan_data] \r\n",
                "GROUP BY not_fully_paid"
            ],
            "metadata": {
                "azdata_cell_guid": "8cfcb3f1-88cf-4eae-8389-6c9919491244"
            },
            "outputs": [
                {
                    "output_type": "display_data",
                    "data": {
                        "text/html": "(2 rows affected)"
                    },
                    "metadata": {}
                },
                {
                    "output_type": "display_data",
                    "data": {
                        "text/html": "Total execution time: 00:00:00.021"
                    },
                    "metadata": {}
                },
                {
                    "output_type": "execute_result",
                    "execution_count": 4,
                    "data": {
                        "application/vnd.dataresource+json": {
                            "schema": {
                                "fields": [
                                    {
                                        "name": "status"
                                    },
                                    {
                                        "name": "loans"
                                    }
                                ]
                            },
                            "data": [
                                {
                                    "0": "Yes",
                                    "1": "8045"
                                },
                                {
                                    "0": "No",
                                    "1": "1533"
                                }
                            ]
                        },
                        "text/html": "<table><tr><th>status</th><th>loans</th></tr><tr><td>Yes</td><td>8045</td></tr><tr><td>No</td><td>1533</td></tr></table>"
                    },
                    "metadata": {}
                }
            ],
            "execution_count": 4
        },
        {
            "cell_type": "code",
            "source": [
                "-- If the borrower meets the credit policy, are they more likely to pay the loan?\r\n",
                "SELECT CASE \r\n",
                "\tWHEN credit_policy = 1 THEN 'Meets Criteria'\r\n",
                "\tELSE 'Do not meet criteria'\r\n",
                "\tEND as meet_criteria, \r\n",
                "CASE \r\n",
                "\tWHEN not_fully_paid = 0 THEN 'Yes'\r\n",
                "\tELSE 'No'\r\n",
                "\tEND as fully_paid, COUNT(*) as loans\r\n",
                "FROM [dbo].[loan_data] \r\n",
                "GROUP BY not_fully_paid, credit_policy\r\n",
                "ORDER BY loans DESC"
            ],
            "metadata": {
                "azdata_cell_guid": "a732c2be-9c2f-4340-b541-b436eeeb74e3"
            },
            "outputs": [
                {
                    "output_type": "display_data",
                    "data": {
                        "text/html": "(4 rows affected)"
                    },
                    "metadata": {}
                },
                {
                    "output_type": "display_data",
                    "data": {
                        "text/html": "Total execution time: 00:00:00.016"
                    },
                    "metadata": {}
                },
                {
                    "output_type": "execute_result",
                    "execution_count": 5,
                    "data": {
                        "application/vnd.dataresource+json": {
                            "schema": {
                                "fields": [
                                    {
                                        "name": "meet_criteria"
                                    },
                                    {
                                        "name": "fully_paid"
                                    },
                                    {
                                        "name": "loans"
                                    }
                                ]
                            },
                            "data": [
                                {
                                    "0": "Meets Criteria",
                                    "1": "Yes",
                                    "2": "6696"
                                },
                                {
                                    "0": "Do not meet criteria",
                                    "1": "Yes",
                                    "2": "1349"
                                },
                                {
                                    "0": "Meets Criteria",
                                    "1": "No",
                                    "2": "1014"
                                },
                                {
                                    "0": "Do not meet criteria",
                                    "1": "No",
                                    "2": "519"
                                }
                            ]
                        },
                        "text/html": "<table><tr><th>meet_criteria</th><th>fully_paid</th><th>loans</th></tr><tr><td>Meets Criteria</td><td>Yes</td><td>6696</td></tr><tr><td>Do not meet criteria</td><td>Yes</td><td>1349</td></tr><tr><td>Meets Criteria</td><td>No</td><td>1014</td></tr><tr><td>Do not meet criteria</td><td>No</td><td>519</td></tr></table>"
                    },
                    "metadata": {}
                }
            ],
            "execution_count": 5
        },
        {
            "cell_type": "markdown",
            "source": [
                "<span style=\"background: transparent; margin-top: 0pt; margin-bottom: 0pt;\" data-preserver-spaces=\"true\">It seems that the most common type of loan is Debt Consolidation, Others, and Credit Card. We also found that from 9,578 loans, 8045 were fully paid, and most of these loans met the credit criteria required by LendingClub.com.&nbsp;</span> \n",
                "\n",
                "## <span style=\"background: transparent; margin-top: 0pt; margin-bottom: 0pt;\" data-preserver-spaces=\"true\">2. Evaluating a Low-risk Profile.</span>\n",
                "\n",
                "<span style=\"background: transparent; margin-top: 0pt; margin-bottom: 0pt;\" data-preserver-spaces=\"true\">We now have an initial idea of what type of loans the borrowers usually take and their payment status. Since more than half of our borrowers paid their loans, we can investigate what features they have to determine a profile of a low-risk borrower. This will help investors to decide rather or not to invest according to other attributes besides the credit criteria of LendingClub.com. In order to evaluate what a low-risk profile looks like, let's analyze the following relationships:&nbsp;</span> \n",
                "\n",
                "- <span style=\"background: transparent; margin-top: 0pt; margin-bottom: 0pt;\" data-preserver-spaces=\"true\">The relationship between FICO credit score and payment status.</span>\n",
                "- <span style=\"background: transparent; margin-top: 0pt; margin-bottom: 0pt;\" data-preserver-spaces=\"true\">The relationship between annual income and payment status.</span>\n",
                "- <span style=\"background: transparent; margin-top: 0pt; margin-bottom: 0pt;\" data-preserver-spaces=\"true\">The relationship between derogatory public records and payment status.&nbsp;</span>"
            ],
            "metadata": {
                "azdata_cell_guid": "bf145d8a-0c90-4452-ae4f-9fc4bea33e2e"
            },
            "attachments": {}
        },
        {
            "cell_type": "code",
            "source": [
                "-- Relationship between FICO and payment status\r\n",
                "WITH fico_score AS (SELECT CASE \r\n",
                "\tWHEN fico < 650  THEN 'FICO less 650'\r\n",
                "\tWHEN fico >= 650 AND fico < 750 THEN 'FICO 650 - 750'\r\n",
                "\tWHEN fico >= 750 and fico < 800 THEN 'FICO 750 - 799'\r\n",
                "\tELSE 'FICO above 800'\r\n",
                "\tEND as FICO_score,\r\n",
                "\tCASE \r\n",
                "\tWHEN not_fully_paid = 0 THEN 'Yes'\r\n",
                "\tELSE 'No'\r\n",
                "\tEND as fully_paid\r\n",
                "\tFROM [dbo].[loan_data] )\r\n",
                "SELECT  FICO_score, fully_paid, COUNT(*) as loans\r\n",
                "FROM fico_score\r\n",
                "GROUP BY  FICO_score, fully_paid\r\n",
                "ORDER BY loans DESC"
            ],
            "metadata": {
                "azdata_cell_guid": "91772136-f744-4aea-a7cc-3c154f5363b7"
            },
            "outputs": [
                {
                    "output_type": "display_data",
                    "data": {
                        "text/html": "(8 rows affected)"
                    },
                    "metadata": {}
                },
                {
                    "output_type": "display_data",
                    "data": {
                        "text/html": "Total execution time: 00:00:01.049"
                    },
                    "metadata": {}
                },
                {
                    "output_type": "execute_result",
                    "execution_count": 1,
                    "data": {
                        "application/vnd.dataresource+json": {
                            "schema": {
                                "fields": [
                                    {
                                        "name": "FICO_score"
                                    },
                                    {
                                        "name": "fully_paid"
                                    },
                                    {
                                        "name": "loans"
                                    }
                                ]
                            },
                            "data": [
                                {
                                    "0": "FICO 650 - 750",
                                    "1": "Yes",
                                    "2": "6342"
                                },
                                {
                                    "0": "FICO 750 - 799",
                                    "1": "Yes",
                                    "2": "1411"
                                },
                                {
                                    "0": "FICO 650 - 750",
                                    "1": "No",
                                    "2": "1335"
                                },
                                {
                                    "0": "FICO less 650",
                                    "1": "Yes",
                                    "2": "157"
                                },
                                {
                                    "0": "FICO above 800",
                                    "1": "Yes",
                                    "2": "135"
                                },
                                {
                                    "0": "FICO 750 - 799",
                                    "1": "No",
                                    "2": "114"
                                },
                                {
                                    "0": "FICO less 650",
                                    "1": "No",
                                    "2": "74"
                                },
                                {
                                    "0": "FICO above 800",
                                    "1": "No",
                                    "2": "10"
                                }
                            ]
                        },
                        "text/html": "<table><tr><th>FICO_score</th><th>fully_paid</th><th>loans</th></tr><tr><td>FICO 650 - 750</td><td>Yes</td><td>6342</td></tr><tr><td>FICO 750 - 799</td><td>Yes</td><td>1411</td></tr><tr><td>FICO 650 - 750</td><td>No</td><td>1335</td></tr><tr><td>FICO less 650</td><td>Yes</td><td>157</td></tr><tr><td>FICO above 800</td><td>Yes</td><td>135</td></tr><tr><td>FICO 750 - 799</td><td>No</td><td>114</td></tr><tr><td>FICO less 650</td><td>No</td><td>74</td></tr><tr><td>FICO above 800</td><td>No</td><td>10</td></tr></table>"
                    },
                    "metadata": {}
                }
            ],
            "execution_count": 1
        },
        {
            "cell_type": "code",
            "source": [
                "-- Relationship between annual income and payment status\r\n",
                "-- Since the annual income had a log transformation, I had to reverse it to normal number and rounded to 3 decimals\r\n",
                "-- To simplify the analysis, I grouped the income into ranges.\r\n",
                "WITH annual_inc AS (\r\n",
                "SELECT  \r\n",
                "\tCASE \r\n",
                "\t\tWHEN ROUND(EXP(log_annual_inc),3) < 50000 THEN 'Less than 50000'\r\n",
                "\t\tWHEN ROUND(EXP(log_annual_inc),3) >= 50000 AND ROUND(EXP(log_annual_inc),3)  < 90000 THEN '50000 - 89999'\r\n",
                "\t\tWHEN ROUND(EXP(log_annual_inc),3) >= 90000 AND ROUND(EXP(log_annual_inc),3) < 150000 THEN '90000 - 149999'\r\n",
                "\t\tELSE 'More than 150000'\r\n",
                "\tEND as annual_inc,\r\n",
                "\tCASE \r\n",
                "\t\tWHEN not_fully_paid = 0 THEN 'Yes'\r\n",
                "\t\tELSE 'No'\r\n",
                "\t\tEND as fully_paid\r\n",
                "FROM [dbo].[loan_data] )\r\n",
                "SELECT annual_inc, fully_paid,  COUNT(*) as loans\r\n",
                "FROM annual_inc\r\n",
                "GROUP BY annual_inc, fully_paid\r\n",
                "ORDER BY loans DESC"
            ],
            "metadata": {
                "azdata_cell_guid": "0d865824-232c-4098-8842-b4d525458423"
            },
            "outputs": [
                {
                    "output_type": "display_data",
                    "data": {
                        "text/html": "(8 rows affected)"
                    },
                    "metadata": {}
                },
                {
                    "output_type": "display_data",
                    "data": {
                        "text/html": "Total execution time: 00:00:00.031"
                    },
                    "metadata": {}
                },
                {
                    "output_type": "execute_result",
                    "execution_count": 2,
                    "data": {
                        "application/vnd.dataresource+json": {
                            "schema": {
                                "fields": [
                                    {
                                        "name": "annual_inc"
                                    },
                                    {
                                        "name": "fully_paid"
                                    },
                                    {
                                        "name": "loans"
                                    }
                                ]
                            },
                            "data": [
                                {
                                    "0": "Less than 50000",
                                    "1": "Yes",
                                    "2": "3201"
                                },
                                {
                                    "0": "50000 - 89999",
                                    "1": "Yes",
                                    "2": "3192"
                                },
                                {
                                    "0": "90000 - 149999",
                                    "1": "Yes",
                                    "2": "1241"
                                },
                                {
                                    "0": "Less than 50000",
                                    "1": "No",
                                    "2": "679"
                                },
                                {
                                    "0": "50000 - 89999",
                                    "1": "No",
                                    "2": "568"
                                },
                                {
                                    "0": "More than 150000",
                                    "1": "Yes",
                                    "2": "411"
                                },
                                {
                                    "0": "90000 - 149999",
                                    "1": "No",
                                    "2": "188"
                                },
                                {
                                    "0": "More than 150000",
                                    "1": "No",
                                    "2": "98"
                                }
                            ]
                        },
                        "text/html": "<table><tr><th>annual_inc</th><th>fully_paid</th><th>loans</th></tr><tr><td>Less than 50000</td><td>Yes</td><td>3201</td></tr><tr><td>50000 - 89999</td><td>Yes</td><td>3192</td></tr><tr><td>90000 - 149999</td><td>Yes</td><td>1241</td></tr><tr><td>Less than 50000</td><td>No</td><td>679</td></tr><tr><td>50000 - 89999</td><td>No</td><td>568</td></tr><tr><td>More than 150000</td><td>Yes</td><td>411</td></tr><tr><td>90000 - 149999</td><td>No</td><td>188</td></tr><tr><td>More than 150000</td><td>No</td><td>98</td></tr></table>"
                    },
                    "metadata": {}
                }
            ],
            "execution_count": 2
        },
        {
            "cell_type": "code",
            "source": [
                "--Relationship between derogatory public records and payment status\r\n",
                "SELECT \r\n",
                "\tCASE \r\n",
                "\t\tWHEN not_fully_paid = 0 THEN 'Yes'\r\n",
                "\t\tELSE 'No'\r\n",
                "\t\tEND as fully_paid, pub_rec as num_pub_rec, COUNT(*) as loans\r\n",
                "FROM [dbo].[loan_data] \r\n",
                "WHERE pub_rec > 0\r\n",
                "GROUP BY not_fully_paid, pub_rec\r\n",
                "ORDER BY pub_rec "
            ],
            "metadata": {
                "azdata_cell_guid": "1204da24-7139-4dfc-9607-2db5d0e3467a"
            },
            "outputs": [
                {
                    "output_type": "display_data",
                    "data": {
                        "text/html": "(7 rows affected)"
                    },
                    "metadata": {}
                },
                {
                    "output_type": "display_data",
                    "data": {
                        "text/html": "Total execution time: 00:00:00.024"
                    },
                    "metadata": {}
                },
                {
                    "output_type": "execute_result",
                    "execution_count": 4,
                    "data": {
                        "application/vnd.dataresource+json": {
                            "schema": {
                                "fields": [
                                    {
                                        "name": "fully_paid"
                                    },
                                    {
                                        "name": "num_pub_rec"
                                    },
                                    {
                                        "name": "loans"
                                    }
                                ]
                            },
                            "data": [
                                {
                                    "0": "Yes",
                                    "1": "1",
                                    "2": "397"
                                },
                                {
                                    "0": "No",
                                    "1": "1",
                                    "2": "136"
                                },
                                {
                                    "0": "Yes",
                                    "1": "2",
                                    "2": "17"
                                },
                                {
                                    "0": "No",
                                    "1": "2",
                                    "2": "2"
                                },
                                {
                                    "0": "Yes",
                                    "1": "3",
                                    "2": "5"
                                },
                                {
                                    "0": "Yes",
                                    "1": "4",
                                    "2": "1"
                                },
                                {
                                    "0": "Yes",
                                    "1": "5",
                                    "2": "1"
                                }
                            ]
                        },
                        "text/html": "<table><tr><th>fully_paid</th><th>num_pub_rec</th><th>loans</th></tr><tr><td>Yes</td><td>1</td><td>397</td></tr><tr><td>No</td><td>1</td><td>136</td></tr><tr><td>Yes</td><td>2</td><td>17</td></tr><tr><td>No</td><td>2</td><td>2</td></tr><tr><td>Yes</td><td>3</td><td>5</td></tr><tr><td>Yes</td><td>4</td><td>1</td></tr><tr><td>Yes</td><td>5</td><td>1</td></tr></table>"
                    },
                    "metadata": {}
                }
            ],
            "execution_count": 4
        },
        {
            "cell_type": "markdown",
            "source": [
                "After exploring some relationships between the characteristics of the borrowers and their payment status, we can determine how a low-risk borrower profile would be. The first relationship we analyzed was the FICO score and payment status. From our query, we notice that the majority of the borrowers who fully paid their loans have a FICO score between 650 - 750. We also note a high number (1335) of not-fully-paid loans for FICO scores above 650 and only a few for scores less than 650. This result emphasizes that only the FICO score is not a strong indicator that the borrower is more likely to pay their loans.  The second relationship we analyzed was annual income and payment status. It does not seem that the annual income has a major influence on borrowers who paid their loans. But, we found that the majority of people who did not pay their loans have an annual income of less than 90,000. Finally, in the relationship between payment status and derogatory public records, we found that most people who have one or more derogatory records still paid their loans. Therefore, derogatory public records should not be a strong sign that the borrower will not pay the loan. \n",
                "\n",
                "### Low-Risk Borrower Profile:\n",
                "\n",
                "According to our analysis, a low-risk profile would have:\n",
                "\n",
                "- FICO score above 650.\n",
                "- Annual income above 50,000.\n",
                "- One or no derogatory public records.\n",
                "\n",
                "## 3\\. How long does it take for a loan to be fully paid?\n",
                "\n",
                "Since our database does not have much information on when the loan was taken and when it was paid, we will be using the days with the credit line as a time measure. To find the average years that it takes for a loan to be fully paid, we will divide the column by number of days per year and take the average."
            ],
            "metadata": {
                "azdata_cell_guid": "a9447149-83d3-4bb4-95de-0ab0c1df74f5"
            },
            "attachments": {}
        },
        {
            "cell_type": "code",
            "source": [
                "--Here we divided the day_with_cr_line column by 365 to find number of years\r\n",
                "--Then take the average\r\n",
                "--And round up to 2 decimals place.\r\n",
                "SELECT  ROUND((AVG(days_with_cr_line/ 365)) , 2) AS avg_years\r\n",
                "FROM [dbo].[loan_data] \r\n",
                "--Display results for only where the fully paid is true\r\n",
                "WHERE not_fully_paid = 0"
            ],
            "metadata": {
                "azdata_cell_guid": "d36ad5dc-3eb5-41d6-af66-ee2a8f0e9d16"
            },
            "outputs": [
                {
                    "output_type": "display_data",
                    "data": {
                        "text/html": "(1 row affected)"
                    },
                    "metadata": {}
                },
                {
                    "output_type": "display_data",
                    "data": {
                        "text/html": "Total execution time: 00:00:00.010"
                    },
                    "metadata": {}
                },
                {
                    "output_type": "execute_result",
                    "execution_count": 5,
                    "data": {
                        "application/vnd.dataresource+json": {
                            "schema": {
                                "fields": [
                                    {
                                        "name": "avg_years"
                                    }
                                ]
                            },
                            "data": [
                                {
                                    "0": "12.58"
                                }
                            ]
                        },
                        "text/html": "<table><tr><th>avg_years</th></tr><tr><td>12.58</td></tr></table>"
                    },
                    "metadata": {}
                }
            ],
            "execution_count": 5
        },
        {
            "cell_type": "code",
            "source": [
                "--Checking average years for each category\r\n",
                "SELECT  purpose, ROUND((AVG(days_with_cr_line/ 365)) , 2) AS avg_years\r\n",
                "FROM [dbo].[loan_data] \r\n",
                "WHERE not_fully_paid = 0\r\n",
                "GROUP BY purpose\r\n",
                "ORDER BY avg_years DESC"
            ],
            "metadata": {
                "azdata_cell_guid": "60c1e399-9e49-49b8-8cc2-b0501cb6ab45"
            },
            "outputs": [
                {
                    "output_type": "display_data",
                    "data": {
                        "text/html": "(7 rows affected)"
                    },
                    "metadata": {}
                },
                {
                    "output_type": "display_data",
                    "data": {
                        "text/html": "Total execution time: 00:00:00.026"
                    },
                    "metadata": {}
                },
                {
                    "output_type": "execute_result",
                    "execution_count": 7,
                    "data": {
                        "application/vnd.dataresource+json": {
                            "schema": {
                                "fields": [
                                    {
                                        "name": "purpose"
                                    },
                                    {
                                        "name": "avg_years"
                                    }
                                ]
                            },
                            "data": [
                                {
                                    "0": "Home improvement",
                                    "1": "14.36"
                                },
                                {
                                    "0": "Small business",
                                    "1": "13.44"
                                },
                                {
                                    "0": "Credit card",
                                    "1": "13.28"
                                },
                                {
                                    "0": "Debt consolidation",
                                    "1": "12.49"
                                },
                                {
                                    "0": "Major purchase",
                                    "1": "12"
                                },
                                {
                                    "0": "All other",
                                    "1": "11.99"
                                },
                                {
                                    "0": "Educational",
                                    "1": "11.17"
                                }
                            ]
                        },
                        "text/html": "<table><tr><th>purpose</th><th>avg_years</th></tr><tr><td>Home improvement</td><td>14.36</td></tr><tr><td>Small business</td><td>13.44</td></tr><tr><td>Credit card</td><td>13.28</td></tr><tr><td>Debt consolidation</td><td>12.49</td></tr><tr><td>Major purchase</td><td>12</td></tr><tr><td>All other</td><td>11.99</td></tr><tr><td>Educational</td><td>11.17</td></tr></table>"
                    },
                    "metadata": {}
                }
            ],
            "execution_count": 7
        },
        {
            "cell_type": "markdown",
            "source": [
                "From our queries, it seems that the average time for loans to be paid in 12 years. And the Home improvement has the longest average time compared to other categories."
            ],
            "metadata": {
                "azdata_cell_guid": "f495ad96-1ad8-433c-9ca4-65f28c1e3062"
            },
            "attachments": {}
        },
        {
            "cell_type": "markdown",
            "source": [
                "# Conclusion\n",
                "\n",
                "For this analysis, we used SQL to query the Loan Database to help lenders make a data-driven decision on their investments. We used the dataset to analyze the borrowers who fully paid their loans to establish a low-risk profile. We found some attributes such as FICO score or annual income do not have a strong influence on whether the loan would be paid or not. And the majority of people with derogatory public records still paid their loans. After this analysis, we could determine the features of a low-risk profile. Finally, we used the number of days credit line to estimate the average time a borrower takes to pay their loan. We also analyzed the average time for each category and concluded that the Home Improvement category has the higher average time for being fully paid."
            ],
            "metadata": {
                "azdata_cell_guid": "299e96ec-4e06-4290-9585-5b746a392908"
            },
            "attachments": {}
        }
    ]
}